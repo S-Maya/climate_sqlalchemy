{
 "cells": [
  {
   "cell_type": "code",
   "execution_count": 36,
   "metadata": {},
   "outputs": [
    {
     "name": "stdout",
     "output_type": "stream",
     "text": [
      "The lab_black extension is already loaded. To reload it, use:\n",
      "  %reload_ext lab_black\n"
     ]
    }
   ],
   "source": [
    "%load_ext lab_black\n",
    "import matplotlib\n",
    "from matplotlib import style\n",
    "\n",
    "style.use(\"seaborn\")\n",
    "import matplotlib.pyplot as plt\n",
    "import datetime as dt\n",
    "import time\n",
    "import pandas as pd\n",
    "import numpy as np\n",
    "from scipy import stats\n",
    "from datetime import *"
   ]
  },
  {
   "cell_type": "code",
   "execution_count": 37,
   "metadata": {},
   "outputs": [],
   "source": [
    "import sqlalchemy\n",
    "from sqlalchemy.ext.automap import automap_base\n",
    "from sqlalchemy.orm import Session\n",
    "from sqlalchemy import create_engine, inspect, func"
   ]
  },
  {
   "cell_type": "code",
   "execution_count": 38,
   "metadata": {},
   "outputs": [],
   "source": [
    "engine = create_engine(\"sqlite:///Resources/hawaii.sqlite\")"
   ]
  },
  {
   "cell_type": "code",
   "execution_count": 39,
   "metadata": {},
   "outputs": [
    {
     "data": {
      "text/plain": [
       "['measurement', 'station']"
      ]
     },
     "execution_count": 39,
     "metadata": {},
     "output_type": "execute_result"
    }
   ],
   "source": [
    "inspector = inspect(engine)\n",
    "inspector.get_table_names()"
   ]
  },
  {
   "cell_type": "code",
   "execution_count": 40,
   "metadata": {},
   "outputs": [
    {
     "name": "stdout",
     "output_type": "stream",
     "text": [
      "id INTEGER 1\n",
      "station TEXT 0\n",
      "date TEXT 0\n",
      "prcp FLOAT 0\n",
      "tobs FLOAT 0\n"
     ]
    }
   ],
   "source": [
    "cols = inspector.get_columns(\"measurement\")\n",
    "for column in cols:\n",
    "    print(column[\"name\"], column[\"type\"], column[\"primary_key\"])"
   ]
  },
  {
   "cell_type": "code",
   "execution_count": 41,
   "metadata": {},
   "outputs": [
    {
     "name": "stdout",
     "output_type": "stream",
     "text": [
      "id INTEGER 1\n",
      "station TEXT 0\n",
      "name TEXT 0\n",
      "latitude FLOAT 0\n",
      "longitude FLOAT 0\n",
      "elevation FLOAT 0\n"
     ]
    }
   ],
   "source": [
    "cols = inspector.get_columns(\"station\")\n",
    "for column in cols:\n",
    "    print(column[\"name\"], column[\"type\"], column[\"primary_key\"])"
   ]
  },
  {
   "cell_type": "code",
   "execution_count": 42,
   "metadata": {},
   "outputs": [],
   "source": [
    "Base = automap_base()\n",
    "Base.prepare(engine, reflect=True)\n",
    "Station = Base.classes.station\n",
    "Measurement = Base.classes.measurement"
   ]
  },
  {
   "cell_type": "code",
   "execution_count": 43,
   "metadata": {},
   "outputs": [],
   "source": [
    "session = Session(engine)"
   ]
  },
  {
   "cell_type": "code",
   "execution_count": 44,
   "metadata": {},
   "outputs": [
    {
     "data": {
      "text/plain": [
       "['measurement', 'station']"
      ]
     },
     "execution_count": 44,
     "metadata": {},
     "output_type": "execute_result"
    }
   ],
   "source": [
    "Base.classes.keys()"
   ]
  },
  {
   "cell_type": "code",
   "execution_count": 45,
   "metadata": {},
   "outputs": [],
   "source": [
    "date_max = session.query(func.max(Measurement.date)).first()[0]\n",
    "date_max = dt.datetime.strptime(date_max, \"%Y-%m-%d\").date()\n",
    "year_before = date_max - timedelta(365)"
   ]
  },
  {
   "cell_type": "code",
   "execution_count": 46,
   "metadata": {},
   "outputs": [
    {
     "name": "stdout",
     "output_type": "stream",
     "text": [
      "('2017-08-23',)\n"
     ]
    }
   ],
   "source": [
    "latest_date = session.query(Measurement.date).order_by(Measurement.date.desc()).first()\n",
    "print(latest_date)"
   ]
  },
  {
   "cell_type": "code",
   "execution_count": 47,
   "metadata": {},
   "outputs": [],
   "source": [
    "latest_date = dt.date(2017, 8, 23)"
   ]
  },
  {
   "cell_type": "code",
   "execution_count": 48,
   "metadata": {},
   "outputs": [
    {
     "name": "stdout",
     "output_type": "stream",
     "text": [
      "2016-08-23\n"
     ]
    },
    {
     "data": {
      "text/html": [
       "<div>\n",
       "<style scoped>\n",
       "    .dataframe tbody tr th:only-of-type {\n",
       "        vertical-align: middle;\n",
       "    }\n",
       "\n",
       "    .dataframe tbody tr th {\n",
       "        vertical-align: top;\n",
       "    }\n",
       "\n",
       "    .dataframe thead th {\n",
       "        text-align: right;\n",
       "    }\n",
       "</style>\n",
       "<table border=\"1\" class=\"dataframe\">\n",
       "  <thead>\n",
       "    <tr style=\"text-align: right;\">\n",
       "      <th></th>\n",
       "      <th>precipitation</th>\n",
       "    </tr>\n",
       "    <tr>\n",
       "      <th>date</th>\n",
       "      <th></th>\n",
       "    </tr>\n",
       "  </thead>\n",
       "  <tbody>\n",
       "    <tr>\n",
       "      <th>2016-08-23</th>\n",
       "      <td>0.00</td>\n",
       "    </tr>\n",
       "    <tr>\n",
       "      <th>2016-08-24</th>\n",
       "      <td>0.08</td>\n",
       "    </tr>\n",
       "    <tr>\n",
       "      <th>2016-08-25</th>\n",
       "      <td>0.08</td>\n",
       "    </tr>\n",
       "    <tr>\n",
       "      <th>2016-08-26</th>\n",
       "      <td>0.00</td>\n",
       "    </tr>\n",
       "    <tr>\n",
       "      <th>2016-08-27</th>\n",
       "      <td>0.00</td>\n",
       "    </tr>\n",
       "  </tbody>\n",
       "</table>\n",
       "</div>"
      ],
      "text/plain": [
       "            precipitation\n",
       "date                     \n",
       "2016-08-23           0.00\n",
       "2016-08-24           0.08\n",
       "2016-08-25           0.08\n",
       "2016-08-26           0.00\n",
       "2016-08-27           0.00"
      ]
     },
     "execution_count": 48,
     "metadata": {},
     "output_type": "execute_result"
    }
   ],
   "source": [
    "query_date = latest_date - dt.timedelta(days=365)\n",
    "print(query_date)\n",
    "results = (\n",
    "    session.query(Measurement.date, Measurement.prcp)\n",
    "    .filter(Measurement.date >= query_date)\n",
    "    .all()\n",
    ")\n",
    "df = pd.DataFrame(results, columns=[\"date\", \"precipitation\"])\n",
    "# df = df.sort_values(\"date\", ascending=True)\n",
    "df = df.set_index(\"date\")\n",
    "df.head()"
   ]
  },
  {
   "cell_type": "code",
   "execution_count": 49,
   "metadata": {},
   "outputs": [],
   "source": [
    "date_prcp_query = (\n",
    "    session.query(Measurement.date, Measurement.prcp)\n",
    "    .filter(Measurement.date >= \"2016-08-23\", Measurement.date <= \"2017-08-23\")\n",
    "    .order_by(Measurement.date)\n",
    "    .statement\n",
    ")"
   ]
  },
  {
   "cell_type": "code",
   "execution_count": 50,
   "metadata": {},
   "outputs": [
    {
     "data": {
      "text/html": [
       "<div>\n",
       "<style scoped>\n",
       "    .dataframe tbody tr th:only-of-type {\n",
       "        vertical-align: middle;\n",
       "    }\n",
       "\n",
       "    .dataframe tbody tr th {\n",
       "        vertical-align: top;\n",
       "    }\n",
       "\n",
       "    .dataframe thead th {\n",
       "        text-align: right;\n",
       "    }\n",
       "</style>\n",
       "<table border=\"1\" class=\"dataframe\">\n",
       "  <thead>\n",
       "    <tr style=\"text-align: right;\">\n",
       "      <th></th>\n",
       "      <th>date</th>\n",
       "      <th>prcp</th>\n",
       "    </tr>\n",
       "  </thead>\n",
       "  <tbody>\n",
       "    <tr>\n",
       "      <th>0</th>\n",
       "      <td>2016-08-23</td>\n",
       "      <td>0.00</td>\n",
       "    </tr>\n",
       "    <tr>\n",
       "      <th>1</th>\n",
       "      <td>2016-08-23</td>\n",
       "      <td>0.15</td>\n",
       "    </tr>\n",
       "    <tr>\n",
       "      <th>2</th>\n",
       "      <td>2016-08-23</td>\n",
       "      <td>0.05</td>\n",
       "    </tr>\n",
       "    <tr>\n",
       "      <th>4</th>\n",
       "      <td>2016-08-23</td>\n",
       "      <td>0.02</td>\n",
       "    </tr>\n",
       "    <tr>\n",
       "      <th>5</th>\n",
       "      <td>2016-08-23</td>\n",
       "      <td>1.79</td>\n",
       "    </tr>\n",
       "  </tbody>\n",
       "</table>\n",
       "</div>"
      ],
      "text/plain": [
       "         date  prcp\n",
       "0  2016-08-23  0.00\n",
       "1  2016-08-23  0.15\n",
       "2  2016-08-23  0.05\n",
       "4  2016-08-23  0.02\n",
       "5  2016-08-23  1.79"
      ]
     },
     "execution_count": 50,
     "metadata": {},
     "output_type": "execute_result"
    }
   ],
   "source": [
    "date_prcp_df = pd.read_sql(date_prcp_query, engine).dropna()\n",
    "date_prcp_df.head(5)"
   ]
  },
  {
   "cell_type": "code",
   "execution_count": 51,
   "metadata": {},
   "outputs": [
    {
     "data": {
      "image/png": "[encoded data removed]",
      "text/plain": [
       "<Figure size 576x396 with 1 Axes>"
      ]
     },
     "metadata": {},
     "output_type": "display_data"
    }
   ],
   "source": [
    "date_prcp_df[\"date\"] = pd.to_datetime(date_prcp_df[\"date\"])\n",
    "plt.plot(date_prcp_df[\"date\"], date_prcp_df[\"prcp\"])\n",
    "plt.title(\"Precipitation in Hawaii\")\n",
    "plt.xlabel(\"\")\n",
    "plt.ylabel(\"Rainfall (Inches)\")\n",
    "plt.xticks(rotation=\"90\")\n",
    "plt.tight_layout()\n",
    "plt.show()"
   ]
  },
  {
   "cell_type": "code",
   "execution_count": 52,
   "metadata": {},
   "outputs": [
    {
     "data": {
      "text/html": [
       "<div>\n",
       "<style scoped>\n",
       "    .dataframe tbody tr th:only-of-type {\n",
       "        vertical-align: middle;\n",
       "    }\n",
       "\n",
       "    .dataframe tbody tr th {\n",
       "        vertical-align: top;\n",
       "    }\n",
       "\n",
       "    .dataframe thead th {\n",
       "        text-align: right;\n",
       "    }\n",
       "</style>\n",
       "<table border=\"1\" class=\"dataframe\">\n",
       "  <thead>\n",
       "    <tr style=\"text-align: right;\">\n",
       "      <th></th>\n",
       "      <th>prcp</th>\n",
       "    </tr>\n",
       "  </thead>\n",
       "  <tbody>\n",
       "    <tr>\n",
       "      <th>count</th>\n",
       "      <td>2021.000000</td>\n",
       "    </tr>\n",
       "    <tr>\n",
       "      <th>mean</th>\n",
       "      <td>0.177279</td>\n",
       "    </tr>\n",
       "    <tr>\n",
       "      <th>std</th>\n",
       "      <td>0.461190</td>\n",
       "    </tr>\n",
       "    <tr>\n",
       "      <th>min</th>\n",
       "      <td>0.000000</td>\n",
       "    </tr>\n",
       "    <tr>\n",
       "      <th>25%</th>\n",
       "      <td>0.000000</td>\n",
       "    </tr>\n",
       "    <tr>\n",
       "      <th>50%</th>\n",
       "      <td>0.020000</td>\n",
       "    </tr>\n",
       "    <tr>\n",
       "      <th>75%</th>\n",
       "      <td>0.130000</td>\n",
       "    </tr>\n",
       "    <tr>\n",
       "      <th>max</th>\n",
       "      <td>6.700000</td>\n",
       "    </tr>\n",
       "  </tbody>\n",
       "</table>\n",
       "</div>"
      ],
      "text/plain": [
       "              prcp\n",
       "count  2021.000000\n",
       "mean      0.177279\n",
       "std       0.461190\n",
       "min       0.000000\n",
       "25%       0.000000\n",
       "50%       0.020000\n",
       "75%       0.130000\n",
       "max       6.700000"
      ]
     },
     "execution_count": 52,
     "metadata": {},
     "output_type": "execute_result"
    }
   ],
   "source": [
    "date_prcp_df.describe()"
   ]
  },
  {
   "cell_type": "code",
   "execution_count": 53,
   "metadata": {},
   "outputs": [
    {
     "name": "stdout",
     "output_type": "stream",
     "text": [
      "id INTEGER 1\n",
      "station TEXT 0\n",
      "name TEXT 0\n",
      "latitude FLOAT 0\n",
      "longitude FLOAT 0\n",
      "elevation FLOAT 0\n"
     ]
    }
   ],
   "source": [
    "cols = inspector.get_columns(\"station\")\n",
    "for column in cols:\n",
    "    print(column[\"name\"], column[\"type\"], column[\"primary_key\"])"
   ]
  },
  {
   "cell_type": "code",
   "execution_count": 54,
   "metadata": {},
   "outputs": [
    {
     "name": "stdout",
     "output_type": "stream",
     "text": [
      "id INTEGER 1\n",
      "station TEXT 0\n",
      "date TEXT 0\n",
      "prcp FLOAT 0\n",
      "tobs FLOAT 0\n"
     ]
    }
   ],
   "source": [
    "cols = inspector.get_columns(\"measurement\")\n",
    "for column in cols:\n",
    "    print(column[\"name\"], column[\"type\"], column[\"primary_key\"])"
   ]
  },
  {
   "cell_type": "code",
   "execution_count": 55,
   "metadata": {},
   "outputs": [
    {
     "data": {
      "text/plain": [
       "9"
      ]
     },
     "execution_count": 55,
     "metadata": {},
     "output_type": "execute_result"
    }
   ],
   "source": [
    "session.query(Station.name).count()"
   ]
  },
  {
   "cell_type": "code",
   "execution_count": 56,
   "metadata": {},
   "outputs": [
    {
     "data": {
      "text/plain": [
       "[('USC00519281', 2772),\n",
       " ('USC00519397', 2724),\n",
       " ('USC00513117', 2709),\n",
       " ('USC00519523', 2669),\n",
       " ('USC00516128', 2612),\n",
       " ('USC00514830', 2202),\n",
       " ('USC00511918', 1979),\n",
       " ('USC00517948', 1372),\n",
       " ('USC00518838', 511)]"
      ]
     },
     "execution_count": 56,
     "metadata": {},
     "output_type": "execute_result"
    }
   ],
   "source": [
    "session.query(Measurement.station, func.count(Measurement.station)).group_by(\n",
    "    Measurement.station\n",
    ").order_by(func.count(Measurement.station).desc()).all()"
   ]
  },
  {
   "cell_type": "code",
   "execution_count": 57,
   "metadata": {},
   "outputs": [
    {
     "data": {
      "text/plain": [
       "('USC00519281',\n",
       " 'WAIHEE 837.5, HI US',\n",
       " 21.45167,\n",
       " -157.84888999999998,\n",
       " 32.9,\n",
       " 2772)"
      ]
     },
     "execution_count": 57,
     "metadata": {},
     "output_type": "execute_result"
    }
   ],
   "source": [
    "session.query(\n",
    "    Station.station,\n",
    "    Station.name,\n",
    "    Station.latitude,\n",
    "    Station.longitude,\n",
    "    Station.elevation,\n",
    "    func.count(Measurement.station),\n",
    ").filter(Measurement.station == Station.station).group_by(Measurement.station).order_by(\n",
    "    func.count(Measurement.station).desc()\n",
    ").first()"
   ]
  },
  {
   "cell_type": "code",
   "execution_count": 58,
   "metadata": {},
   "outputs": [
    {
     "name": "stdout",
     "output_type": "stream",
     "text": [
      "[(54.0, 85.0, 71.66378066378067)]\n"
     ]
    }
   ],
   "source": [
    "tob_results = (\n",
    "    session.query(\n",
    "        func.min(Measurement.tobs),\n",
    "        func.max(Measurement.tobs),\n",
    "        func.avg(Measurement.tobs),\n",
    "    )\n",
    "    .filter(Measurement.station == \"USC00519281\")\n",
    "    .all()\n",
    ")\n",
    "print(tob_results)"
   ]
  },
  {
   "cell_type": "code",
   "execution_count": 59,
   "metadata": {},
   "outputs": [
    {
     "data": {
      "text/html": [
       "<div>\n",
       "<style scoped>\n",
       "    .dataframe tbody tr th:only-of-type {\n",
       "        vertical-align: middle;\n",
       "    }\n",
       "\n",
       "    .dataframe tbody tr th {\n",
       "        vertical-align: top;\n",
       "    }\n",
       "\n",
       "    .dataframe thead th {\n",
       "        text-align: right;\n",
       "    }\n",
       "</style>\n",
       "<table border=\"1\" class=\"dataframe\">\n",
       "  <thead>\n",
       "    <tr style=\"text-align: right;\">\n",
       "      <th></th>\n",
       "      <th>min</th>\n",
       "      <th>max</th>\n",
       "      <th>avg</th>\n",
       "    </tr>\n",
       "  </thead>\n",
       "  <tbody>\n",
       "    <tr>\n",
       "      <th>count</th>\n",
       "      <td>1.0</td>\n",
       "      <td>1.0</td>\n",
       "      <td>1.000000</td>\n",
       "    </tr>\n",
       "    <tr>\n",
       "      <th>mean</th>\n",
       "      <td>54.0</td>\n",
       "      <td>85.0</td>\n",
       "      <td>71.663781</td>\n",
       "    </tr>\n",
       "    <tr>\n",
       "      <th>std</th>\n",
       "      <td>NaN</td>\n",
       "      <td>NaN</td>\n",
       "      <td>NaN</td>\n",
       "    </tr>\n",
       "    <tr>\n",
       "      <th>min</th>\n",
       "      <td>54.0</td>\n",
       "      <td>85.0</td>\n",
       "      <td>71.663781</td>\n",
       "    </tr>\n",
       "    <tr>\n",
       "      <th>25%</th>\n",
       "      <td>54.0</td>\n",
       "      <td>85.0</td>\n",
       "      <td>71.663781</td>\n",
       "    </tr>\n",
       "    <tr>\n",
       "      <th>50%</th>\n",
       "      <td>54.0</td>\n",
       "      <td>85.0</td>\n",
       "      <td>71.663781</td>\n",
       "    </tr>\n",
       "    <tr>\n",
       "      <th>75%</th>\n",
       "      <td>54.0</td>\n",
       "      <td>85.0</td>\n",
       "      <td>71.663781</td>\n",
       "    </tr>\n",
       "    <tr>\n",
       "      <th>max</th>\n",
       "      <td>54.0</td>\n",
       "      <td>85.0</td>\n",
       "      <td>71.663781</td>\n",
       "    </tr>\n",
       "  </tbody>\n",
       "</table>\n",
       "</div>"
      ],
      "text/plain": [
       "        min   max        avg\n",
       "count   1.0   1.0   1.000000\n",
       "mean   54.0  85.0  71.663781\n",
       "std     NaN   NaN        NaN\n",
       "min    54.0  85.0  71.663781\n",
       "25%    54.0  85.0  71.663781\n",
       "50%    54.0  85.0  71.663781\n",
       "75%    54.0  85.0  71.663781\n",
       "max    54.0  85.0  71.663781"
      ]
     },
     "execution_count": 59,
     "metadata": {},
     "output_type": "execute_result"
    }
   ],
   "source": [
    "df_tob = pd.DataFrame(tob_results, columns=[\"min\", \"max\", \"avg\"])\n",
    "df_tob.describe()"
   ]
  },
  {
   "cell_type": "code",
   "execution_count": 60,
   "metadata": {},
   "outputs": [
    {
     "name": "stdout",
     "output_type": "stream",
     "text": [
      "2016-08-23\n"
     ]
    },
    {
     "data": {
      "text/html": [
       "<div>\n",
       "<style scoped>\n",
       "    .dataframe tbody tr th:only-of-type {\n",
       "        vertical-align: middle;\n",
       "    }\n",
       "\n",
       "    .dataframe tbody tr th {\n",
       "        vertical-align: top;\n",
       "    }\n",
       "\n",
       "    .dataframe thead th {\n",
       "        text-align: right;\n",
       "    }\n",
       "</style>\n",
       "<table border=\"1\" class=\"dataframe\">\n",
       "  <thead>\n",
       "    <tr style=\"text-align: right;\">\n",
       "      <th></th>\n",
       "      <th>precipitation</th>\n",
       "    </tr>\n",
       "  </thead>\n",
       "  <tbody>\n",
       "    <tr>\n",
       "      <th>0</th>\n",
       "      <td>77.0</td>\n",
       "    </tr>\n",
       "    <tr>\n",
       "      <th>1</th>\n",
       "      <td>77.0</td>\n",
       "    </tr>\n",
       "    <tr>\n",
       "      <th>2</th>\n",
       "      <td>80.0</td>\n",
       "    </tr>\n",
       "    <tr>\n",
       "      <th>3</th>\n",
       "      <td>80.0</td>\n",
       "    </tr>\n",
       "    <tr>\n",
       "      <th>4</th>\n",
       "      <td>75.0</td>\n",
       "    </tr>\n",
       "  </tbody>\n",
       "</table>\n",
       "</div>"
      ],
      "text/plain": [
       "   precipitation\n",
       "0           77.0\n",
       "1           77.0\n",
       "2           80.0\n",
       "3           80.0\n",
       "4           75.0"
      ]
     },
     "execution_count": 60,
     "metadata": {},
     "output_type": "execute_result"
    }
   ],
   "source": [
    "query_date = latest_date - dt.timedelta(days=365)\n",
    "print(query_date)\n",
    "results = (\n",
    "    session.query(Measurement.tobs)\n",
    "    .filter(Measurement.date >= query_date)\n",
    "    .filter(Measurement.station == \"USC00519281\")\n",
    "    .all()\n",
    ")\n",
    "df = pd.DataFrame(results, columns=[\"precipitation\"])\n",
    "# df = df.sort_values(\"date\", ascending=True)\n",
    "# df = df.set_index(\"precipitation\")\n",
    "df.head()"
   ]
  },
  {
   "cell_type": "code",
   "execution_count": 61,
   "metadata": {},
   "outputs": [
    {
     "data": {
      "image/png": "[encoded data removed]",
      "text/plain": [
       "<Figure size 720x432 with 1 Axes>"
      ]
     },
     "metadata": {},
     "output_type": "display_data"
    }
   ],
   "source": [
    "bins = []\n",
    "fig, ax = plt.subplots(figsize=(10, 6))\n",
    "df.hist(bins=12, ax=ax, color=\"blue\", xlabelsize=11, ylabelsize=11, label=\"tobs\")\n",
    "ax.set_title(\"\")\n",
    "ax.legend()\n",
    "plt.rc(\"legend\", fontsize=25)\n",
    "ax.set_ylabel(\"Frequency\", fontsize=20)\n",
    "ax.set_ylim(top=70)\n",
    "fig.savefig(\"Images/tobs.png\")"
   ]
  },
  {
   "cell_type": "code",
   "execution_count": 62,
   "metadata": {},
   "outputs": [],
   "source": [
    "def calc_temps(start_date, end_date):\n",
    "    sd = dt.datetime.strptime(start_date, \"%Y-%m-%d\")\n",
    "    ed = dt.datetime.strptime(end_date, \"%Y-%m-%d\")\n",
    "    result = (\n",
    "        session.query(\n",
    "            func.max(Measurement.tobs),\n",
    "            func.avg(Measurement.tobs),\n",
    "            func.min(Measurement.tobs),\n",
    "        )\n",
    "        .filter(Measurement.date >= start_date)\n",
    "        .filter(Measurement.date <= end_date)\n",
    "        .all()\n",
    "    )\n",
    "    return result"
   ]
  },
  {
   "cell_type": "code",
   "execution_count": 63,
   "metadata": {},
   "outputs": [],
   "source": [
    "def calc_temps(start_date, end_date):\n",
    "    sd = dt.datetime.strptime(start_date, \"%Y-%m-%d\")\n",
    "    ed = dt.datetime.strptime(end_date, \"%Y-%m-%d\")\n",
    "    result = (\n",
    "        session.query(\n",
    "            func.max(Measurement.tobs),\n",
    "            func.avg(Measurement.tobs),\n",
    "            func.min(Measurement.tobs),\n",
    "        )\n",
    "        .filter(Measurement.date >= start_date)\n",
    "        .filter(Measurement.date <= end_date)\n",
    "        .all()\n",
    "    )\n",
    "    return result"
   ]
  },
  {
   "cell_type": "code",
   "execution_count": 64,
   "metadata": {},
   "outputs": [
    {
     "data": {
      "image/png": "[encoded data removed]",
      "text/plain": [
       "<Figure size 936x360 with 1 Axes>"
      ]
     },
     "metadata": {},
     "output_type": "display_data"
    }
   ],
   "source": [
    "yerr = df_tob[\"max\"] - df_tob[\"min\"]\n",
    "fig, ax = plt.subplots(figsize=(13, 5))\n",
    "df_tob[\"avg\"].plot(kind=\"bar\", color=\"yellow\", yerr=yerr, ax=ax)\n",
    "ax.set_ylabel(\"Temp (F)\", fontsize=12)\n",
    "ax.set_xlabel(\"Trip Days\", fontsize=12)\n",
    "\n",
    "for tick in ax.get_yticklabels():\n",
    "    tick_setfontsize = 10\n",
    "for value in ax.get_xticklabels():\n",
    "    #     value.\n",
    "    value.set_fontsize = 20\n",
    "    value.set_rotation(45)\n",
    "fig.savefig(\"Images/temp.png\")"
   ]
  },
  {
   "cell_type": "code",
   "execution_count": 65,
   "metadata": {},
   "outputs": [],
   "source": [
    "def calc_rainfall(start_date, end_date):\n",
    "    sd = dt.datetime.strptime(start_date, \"%Y-%m-%d\")\n",
    "    ed = dt.datetime.strptime(end_date, \"%Y-%m-%d\")\n",
    "    result = (\n",
    "        session.query(Measurement.station, func.sum(Measurement.prcp))\n",
    "        .filter(Measurement.date >= start_date)\n",
    "        .filter(Measurement.date <= end_date)\n",
    "        .group_by(Measurement.station)\n",
    "        .all()\n",
    "    )\n",
    "    return result"
   ]
  },
  {
   "cell_type": "code",
   "execution_count": 66,
   "metadata": {},
   "outputs": [
    {
     "data": {
      "text/html": [
       "<div>\n",
       "<style scoped>\n",
       "    .dataframe tbody tr th:only-of-type {\n",
       "        vertical-align: middle;\n",
       "    }\n",
       "\n",
       "    .dataframe tbody tr th {\n",
       "        vertical-align: top;\n",
       "    }\n",
       "\n",
       "    .dataframe thead th {\n",
       "        text-align: right;\n",
       "    }\n",
       "</style>\n",
       "<table border=\"1\" class=\"dataframe\">\n",
       "  <thead>\n",
       "    <tr style=\"text-align: right;\">\n",
       "      <th></th>\n",
       "      <th>Station</th>\n",
       "      <th>Total Rainfall</th>\n",
       "    </tr>\n",
       "  </thead>\n",
       "  <tbody>\n",
       "    <tr>\n",
       "      <th>0</th>\n",
       "      <td>USC00513117</td>\n",
       "      <td>0.35</td>\n",
       "    </tr>\n",
       "    <tr>\n",
       "      <th>1</th>\n",
       "      <td>USC00514830</td>\n",
       "      <td>0.63</td>\n",
       "    </tr>\n",
       "    <tr>\n",
       "      <th>2</th>\n",
       "      <td>USC00516128</td>\n",
       "      <td>0.63</td>\n",
       "    </tr>\n",
       "    <tr>\n",
       "      <th>3</th>\n",
       "      <td>USC00517948</td>\n",
       "      <td>NaN</td>\n",
       "    </tr>\n",
       "    <tr>\n",
       "      <th>4</th>\n",
       "      <td>USC00519281</td>\n",
       "      <td>0.20</td>\n",
       "    </tr>\n",
       "    <tr>\n",
       "      <th>5</th>\n",
       "      <td>USC00519397</td>\n",
       "      <td>0.00</td>\n",
       "    </tr>\n",
       "    <tr>\n",
       "      <th>6</th>\n",
       "      <td>USC00519523</td>\n",
       "      <td>0.61</td>\n",
       "    </tr>\n",
       "  </tbody>\n",
       "</table>\n",
       "</div>"
      ],
      "text/plain": [
       "       Station  Total Rainfall\n",
       "0  USC00513117            0.35\n",
       "1  USC00514830            0.63\n",
       "2  USC00516128            0.63\n",
       "3  USC00517948             NaN\n",
       "4  USC00519281            0.20\n",
       "5  USC00519397            0.00\n",
       "6  USC00519523            0.61"
      ]
     },
     "execution_count": 66,
     "metadata": {},
     "output_type": "execute_result"
    }
   ],
   "source": [
    "trip_start = \"2017-01-01\"\n",
    "trip_end = \"2017-01-10\"  # dates one year ago\n",
    "rainfall_trip = calc_rainfall(trip_start, trip_end)\n",
    "df_triprainfall = pd.DataFrame(rainfall_trip, columns=[\"Station\", \"Total Rainfall\"])\n",
    "df_triprainfall"
   ]
  },
  {
   "cell_type": "code",
   "execution_count": 67,
   "metadata": {},
   "outputs": [],
   "source": [
    "def daily_normals(date):\n",
    "    sel = [\n",
    "        func.min(Measurement.tobs),\n",
    "        func.avg(Measurement.tobs),\n",
    "        func.max(Measurement.tobs),\n",
    "    ]\n",
    "    daily_normal = (\n",
    "        session.query(*sel)\n",
    "        .filter(func.strftime(\"%m-%d\", Measurement.date) == date)\n",
    "        .all()\n",
    "    )\n",
    "    return daily_normal"
   ]
  },
  {
   "cell_type": "code",
   "execution_count": 68,
   "metadata": {},
   "outputs": [
    {
     "data": {
      "text/html": [
       "<div>\n",
       "<style scoped>\n",
       "    .dataframe tbody tr th:only-of-type {\n",
       "        vertical-align: middle;\n",
       "    }\n",
       "\n",
       "    .dataframe tbody tr th {\n",
       "        vertical-align: top;\n",
       "    }\n",
       "\n",
       "    .dataframe thead th {\n",
       "        text-align: right;\n",
       "    }\n",
       "</style>\n",
       "<table border=\"1\" class=\"dataframe\">\n",
       "  <thead>\n",
       "    <tr style=\"text-align: right;\">\n",
       "      <th></th>\n",
       "      <th>Min_Temp</th>\n",
       "      <th>Average_Temp</th>\n",
       "      <th>Max_Temp</th>\n",
       "    </tr>\n",
       "    <tr>\n",
       "      <th>Trip_Date</th>\n",
       "      <th></th>\n",
       "      <th></th>\n",
       "      <th></th>\n",
       "    </tr>\n",
       "  </thead>\n",
       "  <tbody>\n",
       "    <tr>\n",
       "      <th>01-01</th>\n",
       "      <td>62.0</td>\n",
       "      <td>69.153846</td>\n",
       "      <td>77.0</td>\n",
       "    </tr>\n",
       "    <tr>\n",
       "      <th>01-02</th>\n",
       "      <td>60.0</td>\n",
       "      <td>69.396226</td>\n",
       "      <td>77.0</td>\n",
       "    </tr>\n",
       "    <tr>\n",
       "      <th>01-03</th>\n",
       "      <td>62.0</td>\n",
       "      <td>68.909091</td>\n",
       "      <td>77.0</td>\n",
       "    </tr>\n",
       "    <tr>\n",
       "      <th>01-04</th>\n",
       "      <td>58.0</td>\n",
       "      <td>70.000000</td>\n",
       "      <td>76.0</td>\n",
       "    </tr>\n",
       "    <tr>\n",
       "      <th>01-05</th>\n",
       "      <td>56.0</td>\n",
       "      <td>67.964286</td>\n",
       "      <td>76.0</td>\n",
       "    </tr>\n",
       "    <tr>\n",
       "      <th>01-06</th>\n",
       "      <td>61.0</td>\n",
       "      <td>68.964912</td>\n",
       "      <td>76.0</td>\n",
       "    </tr>\n",
       "    <tr>\n",
       "      <th>01-07</th>\n",
       "      <td>57.0</td>\n",
       "      <td>68.543860</td>\n",
       "      <td>76.0</td>\n",
       "    </tr>\n",
       "    <tr>\n",
       "      <th>01-08</th>\n",
       "      <td>57.0</td>\n",
       "      <td>67.160714</td>\n",
       "      <td>75.0</td>\n",
       "    </tr>\n",
       "    <tr>\n",
       "      <th>01-09</th>\n",
       "      <td>58.0</td>\n",
       "      <td>67.929825</td>\n",
       "      <td>78.0</td>\n",
       "    </tr>\n",
       "  </tbody>\n",
       "</table>\n",
       "</div>"
      ],
      "text/plain": [
       "           Min_Temp  Average_Temp  Max_Temp\n",
       "Trip_Date                                  \n",
       "01-01          62.0     69.153846      77.0\n",
       "01-02          60.0     69.396226      77.0\n",
       "01-03          62.0     68.909091      77.0\n",
       "01-04          58.0     70.000000      76.0\n",
       "01-05          56.0     67.964286      76.0\n",
       "01-06          61.0     68.964912      76.0\n",
       "01-07          57.0     68.543860      76.0\n",
       "01-08          57.0     67.160714      75.0\n",
       "01-09          58.0     67.929825      78.0"
      ]
     },
     "execution_count": 68,
     "metadata": {},
     "output_type": "execute_result"
    }
   ],
   "source": [
    "trip_st = dt.datetime.strptime(trip_start, \"%Y-%m-%d\")\n",
    "trip_duration = 9  # days\n",
    "trip_min = []\n",
    "trip_avg = []\n",
    "trip_max = []\n",
    "trip_date = []\n",
    "for day in range(trip_duration):\n",
    "    date = trip_st + dt.timedelta(days=day)\n",
    "    date_str = dt.datetime.strftime(date, \"%m-%d\")\n",
    "    (normals,) = daily_normals(date_str)\n",
    "    trip_min.append(normals[0])\n",
    "    trip_avg.append(normals[1])\n",
    "    trip_max.append(normals[2])\n",
    "    trip_date.append(date_str)\n",
    "trip_normals = {\n",
    "    \"Trip_Date\": trip_date,\n",
    "    \"Min_Temp\": trip_min,\n",
    "    \"Average_Temp\": trip_avg,\n",
    "    \"Max_Temp\": trip_max,\n",
    "}\n",
    "df_trip_nortemps = pd.DataFrame(\n",
    "    trip_normals, columns=[\"Trip_Date\", \"Min_Temp\", \"Average_Temp\", \"Max_Temp\"]\n",
    ")\n",
    "df_trip_nortemps = df_trip_nortemps.set_index(\"Trip_Date\")\n",
    "df_trip_nortemps"
   ]
  },
  {
   "cell_type": "code",
   "execution_count": 69,
   "metadata": {},
   "outputs": [
    {
     "data": {
      "image/png": "[encoded data removed]",
      "text/plain": [
       "<Figure size 864x504 with 1 Axes>"
      ]
     },
     "metadata": {},
     "output_type": "display_data"
    }
   ],
   "source": [
    "fig, ax = plt.subplots(figsize=(12, 7))\n",
    "df_trip_nortemps.plot(kind=\"area\", ax=ax, stacked=False, alpha=0.5, cmap=\"gist_rainbow\")\n",
    "ax.legend(bbox_to_anchor=(1, 1), loc=\"best\", fontsize=\"large\")\n",
    "ax.set_xticklabels(labels=df_trip_nortemps.index, fontsize=12)\n",
    "ax.set_ylabel(\"Temperature (F)\", fontsize=15)\n",
    "ax.set_xlabel(\"Trip Dates\", fontsize=15)\n",
    "fig.savefig(\"Images/temp2.png\")"
   ]
  },
  {
   "cell_type": "code",
   "execution_count": 70,
   "metadata": {},
   "outputs": [
    {
     "data": {
      "text/plain": [
       "[{'Date': '2017-08-23', 'Prcp': '0.1325'}]"
      ]
     },
     "execution_count": 70,
     "metadata": {},
     "output_type": "execute_result"
    }
   ],
   "source": [
    "year_range = latest_date - dt.timedelta(days=365)\n",
    "\n",
    "# Querying date and pcpt from db\n",
    "results_prcp = (\n",
    "    session.query(Measurement.date, func.avg(Measurement.prcp))\n",
    "    .filter(Measurement.date > year_range)\n",
    "    .group_by(Measurement.date)\n",
    "    .all()\n",
    ")\n",
    "\n",
    "# Creating dictionary from query results and append to a list\n",
    "results = []\n",
    "\n",
    "for result in results_prcp:\n",
    "    x = np.ravel(result)\n",
    "    prcp_dict = {}\n",
    "    prcp_dict[\"Date\"] = x[0]\n",
    "    prcp_dict[\"Prcp\"] = x[1]\n",
    "results.append(prcp_dict)\n",
    "results\n",
    "# prcp_dict"
   ]
  },
  {
   "cell_type": "code",
   "execution_count": null,
   "metadata": {},
   "outputs": [],
   "source": []
  },
  {
   "cell_type": "code",
   "execution_count": null,
   "metadata": {},
   "outputs": [],
   "source": []
  }
 ],
 "metadata": {
  "kernelspec": {
   "display_name": "climate_sqlalchemy",
   "language": "python",
   "name": "climate_sqlalchemy"
  },
  "language_info": {
   "codemirror_mode": {
    "name": "ipython",
    "version": 3
   },
   "file_extension": ".py",
   "mimetype": "text/x-python",
   "name": "python",
   "nbconvert_exporter": "python",
   "pygments_lexer": "ipython3",
   "version": "3.7.5"
  }
 },
 "nbformat": 4,
 "nbformat_minor": 4
}
